{
 "cells": [
  {
   "cell_type": "code",
   "execution_count": 2,
   "id": "cf7a6a3d-dbf2-46d6-b32b-8df27741056b",
   "metadata": {
    "tags": []
   },
   "outputs": [],
   "source": [
    "import pandas as pd\n",
    "import numpy as np\n",
    "import panel as pn\n",
    "pn.extension('tabulator')\n",
    "\n",
    "import hvplot.pandas\n"
   ]
  },
  {
   "cell_type": "code",
   "execution_count": 3,
   "id": "d1953d4c-4281-49bb-a74a-2877549a6d63",
   "metadata": {
    "tags": []
   },
   "outputs": [],
   "source": [
    "# cache data to improve dashboard performance\n",
    "if 'data' not in pn.state.cache.keys():\n",
    "\n",
    "    df = pd.read_csv('https://raw.githubusercontent.com/sambasnet/Mental-Health_Dashboard/main/survey_mental_health.csv')\n",
    "\n",
    "    pn.state.cache['data'] = df.copy()\n",
    "\n",
    "else: \n",
    "\n",
    "    df = pn.state.cache['data']"
   ]
  },
  {
   "cell_type": "code",
   "execution_count": 4,
   "id": "3efac3a4-f937-43f5-8194-2d69a857aee5",
   "metadata": {
    "tags": []
   },
   "outputs": [
    {
     "data": {
      "text/html": [
       "<div>\n",
       "<style scoped>\n",
       "    .dataframe tbody tr th:only-of-type {\n",
       "        vertical-align: middle;\n",
       "    }\n",
       "\n",
       "    .dataframe tbody tr th {\n",
       "        vertical-align: top;\n",
       "    }\n",
       "\n",
       "    .dataframe thead th {\n",
       "        text-align: right;\n",
       "    }\n",
       "</style>\n",
       "<table border=\"1\" class=\"dataframe\">\n",
       "  <thead>\n",
       "    <tr style=\"text-align: right;\">\n",
       "      <th></th>\n",
       "      <th>Timestamp</th>\n",
       "      <th>Age</th>\n",
       "      <th>Gender</th>\n",
       "      <th>Gender_clean</th>\n",
       "      <th>Country</th>\n",
       "      <th>state</th>\n",
       "      <th>self_employed</th>\n",
       "      <th>family_history</th>\n",
       "      <th>Received_treatment</th>\n",
       "      <th>work_interfere</th>\n",
       "      <th>...</th>\n",
       "      <th>leave</th>\n",
       "      <th>mental_health_consequence</th>\n",
       "      <th>phys_health_consequence</th>\n",
       "      <th>coworkers_are_aware</th>\n",
       "      <th>supervisor_is_aware</th>\n",
       "      <th>mental_health_interview</th>\n",
       "      <th>phys_health_interview</th>\n",
       "      <th>mental_vs_physical</th>\n",
       "      <th>obs_consequence</th>\n",
       "      <th>comments</th>\n",
       "    </tr>\n",
       "  </thead>\n",
       "  <tbody>\n",
       "    <tr>\n",
       "      <th>0</th>\n",
       "      <td>27/08/2014 11:29</td>\n",
       "      <td>37</td>\n",
       "      <td>Female</td>\n",
       "      <td>Female</td>\n",
       "      <td>United States</td>\n",
       "      <td>IL</td>\n",
       "      <td>NaN</td>\n",
       "      <td>No</td>\n",
       "      <td>Yes</td>\n",
       "      <td>Often</td>\n",
       "      <td>...</td>\n",
       "      <td>Somewhat easy</td>\n",
       "      <td>No</td>\n",
       "      <td>No</td>\n",
       "      <td>Some of them</td>\n",
       "      <td>Yes</td>\n",
       "      <td>No</td>\n",
       "      <td>Maybe</td>\n",
       "      <td>Yes</td>\n",
       "      <td>No</td>\n",
       "      <td>NaN</td>\n",
       "    </tr>\n",
       "    <tr>\n",
       "      <th>1</th>\n",
       "      <td>27/08/2014 11:29</td>\n",
       "      <td>44</td>\n",
       "      <td>M</td>\n",
       "      <td>Male</td>\n",
       "      <td>United States</td>\n",
       "      <td>IN</td>\n",
       "      <td>NaN</td>\n",
       "      <td>No</td>\n",
       "      <td>No</td>\n",
       "      <td>Rarely</td>\n",
       "      <td>...</td>\n",
       "      <td>Don't know</td>\n",
       "      <td>Maybe</td>\n",
       "      <td>No</td>\n",
       "      <td>No</td>\n",
       "      <td>No</td>\n",
       "      <td>No</td>\n",
       "      <td>No</td>\n",
       "      <td>Don't know</td>\n",
       "      <td>No</td>\n",
       "      <td>NaN</td>\n",
       "    </tr>\n",
       "    <tr>\n",
       "      <th>2</th>\n",
       "      <td>27/08/2014 11:29</td>\n",
       "      <td>32</td>\n",
       "      <td>Male</td>\n",
       "      <td>Male</td>\n",
       "      <td>Canada</td>\n",
       "      <td>NaN</td>\n",
       "      <td>NaN</td>\n",
       "      <td>No</td>\n",
       "      <td>No</td>\n",
       "      <td>Rarely</td>\n",
       "      <td>...</td>\n",
       "      <td>Somewhat difficult</td>\n",
       "      <td>No</td>\n",
       "      <td>No</td>\n",
       "      <td>Yes</td>\n",
       "      <td>Yes</td>\n",
       "      <td>Yes</td>\n",
       "      <td>Yes</td>\n",
       "      <td>No</td>\n",
       "      <td>No</td>\n",
       "      <td>NaN</td>\n",
       "    </tr>\n",
       "    <tr>\n",
       "      <th>3</th>\n",
       "      <td>27/08/2014 11:29</td>\n",
       "      <td>31</td>\n",
       "      <td>Male</td>\n",
       "      <td>Male</td>\n",
       "      <td>United Kingdom</td>\n",
       "      <td>NaN</td>\n",
       "      <td>NaN</td>\n",
       "      <td>Yes</td>\n",
       "      <td>Yes</td>\n",
       "      <td>Often</td>\n",
       "      <td>...</td>\n",
       "      <td>Somewhat difficult</td>\n",
       "      <td>Yes</td>\n",
       "      <td>Yes</td>\n",
       "      <td>Some of them</td>\n",
       "      <td>No</td>\n",
       "      <td>Maybe</td>\n",
       "      <td>Maybe</td>\n",
       "      <td>No</td>\n",
       "      <td>Yes</td>\n",
       "      <td>NaN</td>\n",
       "    </tr>\n",
       "    <tr>\n",
       "      <th>4</th>\n",
       "      <td>27/08/2014 11:30</td>\n",
       "      <td>31</td>\n",
       "      <td>Male</td>\n",
       "      <td>Male</td>\n",
       "      <td>United States</td>\n",
       "      <td>TX</td>\n",
       "      <td>NaN</td>\n",
       "      <td>No</td>\n",
       "      <td>No</td>\n",
       "      <td>Never</td>\n",
       "      <td>...</td>\n",
       "      <td>Don't know</td>\n",
       "      <td>No</td>\n",
       "      <td>No</td>\n",
       "      <td>Some of them</td>\n",
       "      <td>Yes</td>\n",
       "      <td>Yes</td>\n",
       "      <td>Yes</td>\n",
       "      <td>Don't know</td>\n",
       "      <td>No</td>\n",
       "      <td>NaN</td>\n",
       "    </tr>\n",
       "    <tr>\n",
       "      <th>...</th>\n",
       "      <td>...</td>\n",
       "      <td>...</td>\n",
       "      <td>...</td>\n",
       "      <td>...</td>\n",
       "      <td>...</td>\n",
       "      <td>...</td>\n",
       "      <td>...</td>\n",
       "      <td>...</td>\n",
       "      <td>...</td>\n",
       "      <td>...</td>\n",
       "      <td>...</td>\n",
       "      <td>...</td>\n",
       "      <td>...</td>\n",
       "      <td>...</td>\n",
       "      <td>...</td>\n",
       "      <td>...</td>\n",
       "      <td>...</td>\n",
       "      <td>...</td>\n",
       "      <td>...</td>\n",
       "      <td>...</td>\n",
       "      <td>...</td>\n",
       "    </tr>\n",
       "    <tr>\n",
       "      <th>1254</th>\n",
       "      <td>12/09/2015 11:17</td>\n",
       "      <td>26</td>\n",
       "      <td>male</td>\n",
       "      <td>Male</td>\n",
       "      <td>United Kingdom</td>\n",
       "      <td>NaN</td>\n",
       "      <td>No</td>\n",
       "      <td>No</td>\n",
       "      <td>Yes</td>\n",
       "      <td>NaN</td>\n",
       "      <td>...</td>\n",
       "      <td>Somewhat easy</td>\n",
       "      <td>No</td>\n",
       "      <td>No</td>\n",
       "      <td>Some of them</td>\n",
       "      <td>Some of them</td>\n",
       "      <td>No</td>\n",
       "      <td>No</td>\n",
       "      <td>Don't know</td>\n",
       "      <td>No</td>\n",
       "      <td>NaN</td>\n",
       "    </tr>\n",
       "    <tr>\n",
       "      <th>1255</th>\n",
       "      <td>26/09/2015 01:07</td>\n",
       "      <td>32</td>\n",
       "      <td>Male</td>\n",
       "      <td>Male</td>\n",
       "      <td>United States</td>\n",
       "      <td>IL</td>\n",
       "      <td>No</td>\n",
       "      <td>Yes</td>\n",
       "      <td>Yes</td>\n",
       "      <td>Often</td>\n",
       "      <td>...</td>\n",
       "      <td>Somewhat difficult</td>\n",
       "      <td>No</td>\n",
       "      <td>No</td>\n",
       "      <td>Some of them</td>\n",
       "      <td>Yes</td>\n",
       "      <td>No</td>\n",
       "      <td>No</td>\n",
       "      <td>Yes</td>\n",
       "      <td>No</td>\n",
       "      <td>NaN</td>\n",
       "    </tr>\n",
       "    <tr>\n",
       "      <th>1256</th>\n",
       "      <td>07/11/2015 12:36</td>\n",
       "      <td>34</td>\n",
       "      <td>male</td>\n",
       "      <td>Male</td>\n",
       "      <td>United States</td>\n",
       "      <td>CA</td>\n",
       "      <td>No</td>\n",
       "      <td>Yes</td>\n",
       "      <td>Yes</td>\n",
       "      <td>Sometimes</td>\n",
       "      <td>...</td>\n",
       "      <td>Somewhat difficult</td>\n",
       "      <td>Yes</td>\n",
       "      <td>Yes</td>\n",
       "      <td>No</td>\n",
       "      <td>No</td>\n",
       "      <td>No</td>\n",
       "      <td>No</td>\n",
       "      <td>No</td>\n",
       "      <td>No</td>\n",
       "      <td>NaN</td>\n",
       "    </tr>\n",
       "    <tr>\n",
       "      <th>1257</th>\n",
       "      <td>30/11/2015 21:25</td>\n",
       "      <td>46</td>\n",
       "      <td>f</td>\n",
       "      <td>Female</td>\n",
       "      <td>United States</td>\n",
       "      <td>NC</td>\n",
       "      <td>No</td>\n",
       "      <td>No</td>\n",
       "      <td>No</td>\n",
       "      <td>NaN</td>\n",
       "      <td>...</td>\n",
       "      <td>Don't know</td>\n",
       "      <td>Yes</td>\n",
       "      <td>No</td>\n",
       "      <td>No</td>\n",
       "      <td>No</td>\n",
       "      <td>No</td>\n",
       "      <td>No</td>\n",
       "      <td>No</td>\n",
       "      <td>No</td>\n",
       "      <td>NaN</td>\n",
       "    </tr>\n",
       "    <tr>\n",
       "      <th>1258</th>\n",
       "      <td>01/02/2016 23:04</td>\n",
       "      <td>25</td>\n",
       "      <td>Male</td>\n",
       "      <td>Male</td>\n",
       "      <td>United States</td>\n",
       "      <td>IL</td>\n",
       "      <td>No</td>\n",
       "      <td>Yes</td>\n",
       "      <td>Yes</td>\n",
       "      <td>Sometimes</td>\n",
       "      <td>...</td>\n",
       "      <td>Don't know</td>\n",
       "      <td>Maybe</td>\n",
       "      <td>No</td>\n",
       "      <td>Some of them</td>\n",
       "      <td>No</td>\n",
       "      <td>No</td>\n",
       "      <td>No</td>\n",
       "      <td>Don't know</td>\n",
       "      <td>No</td>\n",
       "      <td>NaN</td>\n",
       "    </tr>\n",
       "  </tbody>\n",
       "</table>\n",
       "<p>1259 rows × 28 columns</p>\n",
       "</div>"
      ],
      "text/plain": [
       "             Timestamp  Age  Gender Gender_clean         Country state   \n",
       "0     27/08/2014 11:29   37  Female       Female   United States    IL  \\\n",
       "1     27/08/2014 11:29   44       M         Male   United States    IN   \n",
       "2     27/08/2014 11:29   32    Male         Male          Canada   NaN   \n",
       "3     27/08/2014 11:29   31    Male         Male  United Kingdom   NaN   \n",
       "4     27/08/2014 11:30   31    Male         Male   United States    TX   \n",
       "...                ...  ...     ...          ...             ...   ...   \n",
       "1254  12/09/2015 11:17   26    male         Male  United Kingdom   NaN   \n",
       "1255  26/09/2015 01:07   32    Male         Male   United States    IL   \n",
       "1256  07/11/2015 12:36   34    male         Male   United States    CA   \n",
       "1257  30/11/2015 21:25   46       f       Female   United States    NC   \n",
       "1258  01/02/2016 23:04   25    Male         Male   United States    IL   \n",
       "\n",
       "     self_employed family_history Received_treatment work_interfere  ...   \n",
       "0              NaN             No                Yes          Often  ...  \\\n",
       "1              NaN             No                 No         Rarely  ...   \n",
       "2              NaN             No                 No         Rarely  ...   \n",
       "3              NaN            Yes                Yes          Often  ...   \n",
       "4              NaN             No                 No          Never  ...   \n",
       "...            ...            ...                ...            ...  ...   \n",
       "1254            No             No                Yes            NaN  ...   \n",
       "1255            No            Yes                Yes          Often  ...   \n",
       "1256            No            Yes                Yes      Sometimes  ...   \n",
       "1257            No             No                 No            NaN  ...   \n",
       "1258            No            Yes                Yes      Sometimes  ...   \n",
       "\n",
       "                   leave mental_health_consequence phys_health_consequence   \n",
       "0          Somewhat easy                        No                      No  \\\n",
       "1             Don't know                     Maybe                      No   \n",
       "2     Somewhat difficult                        No                      No   \n",
       "3     Somewhat difficult                       Yes                     Yes   \n",
       "4             Don't know                        No                      No   \n",
       "...                  ...                       ...                     ...   \n",
       "1254       Somewhat easy                        No                      No   \n",
       "1255  Somewhat difficult                        No                      No   \n",
       "1256  Somewhat difficult                       Yes                     Yes   \n",
       "1257          Don't know                       Yes                      No   \n",
       "1258          Don't know                     Maybe                      No   \n",
       "\n",
       "     coworkers_are_aware supervisor_is_aware mental_health_interview   \n",
       "0           Some of them                 Yes                      No  \\\n",
       "1                     No                  No                      No   \n",
       "2                    Yes                 Yes                     Yes   \n",
       "3           Some of them                  No                   Maybe   \n",
       "4           Some of them                 Yes                     Yes   \n",
       "...                  ...                 ...                     ...   \n",
       "1254        Some of them        Some of them                      No   \n",
       "1255        Some of them                 Yes                      No   \n",
       "1256                  No                  No                      No   \n",
       "1257                  No                  No                      No   \n",
       "1258        Some of them                  No                      No   \n",
       "\n",
       "     phys_health_interview mental_vs_physical obs_consequence comments  \n",
       "0                    Maybe                Yes              No      NaN  \n",
       "1                       No         Don't know              No      NaN  \n",
       "2                      Yes                 No              No      NaN  \n",
       "3                    Maybe                 No             Yes      NaN  \n",
       "4                      Yes         Don't know              No      NaN  \n",
       "...                    ...                ...             ...      ...  \n",
       "1254                    No         Don't know              No      NaN  \n",
       "1255                    No                Yes              No      NaN  \n",
       "1256                    No                 No              No      NaN  \n",
       "1257                    No                 No              No      NaN  \n",
       "1258                    No         Don't know              No      NaN  \n",
       "\n",
       "[1259 rows x 28 columns]"
      ]
     },
     "execution_count": 4,
     "metadata": {},
     "output_type": "execute_result"
    }
   ],
   "source": [
    "df"
   ]
  },
  {
   "cell_type": "code",
   "execution_count": 5,
   "id": "4aa9a7fc-2213-4ac7-a522-9914ea4a2e04",
   "metadata": {
    "tags": []
   },
   "outputs": [
    {
     "data": {
      "text/plain": [
       "Index(['Timestamp', 'Age', 'Gender', 'Gender_clean', 'Country', 'state',\n",
       "       'self_employed', 'family_history', 'Received_treatment',\n",
       "       'work_interfere', 'no_employees', 'remote_work', 'tech_company',\n",
       "       'benefits_provided', 'care_options', 'wellness_program', 'seek_help',\n",
       "       'anonymity', 'leave', 'mental_health_consequence',\n",
       "       'phys_health_consequence', 'coworkers_are_aware', 'supervisor_is_aware',\n",
       "       'mental_health_interview', 'phys_health_interview',\n",
       "       'mental_vs_physical', 'obs_consequence', 'comments'],\n",
       "      dtype='object')"
      ]
     },
     "execution_count": 5,
     "metadata": {},
     "output_type": "execute_result"
    }
   ],
   "source": [
    "df.columns"
   ]
  },
  {
   "cell_type": "code",
   "execution_count": 19,
   "id": "532fc66a-ed67-4535-9074-cc0bfb27cee5",
   "metadata": {
    "tags": []
   },
   "outputs": [
    {
     "data": {
      "text/plain": [
       "0       Yes\n",
       "1        No\n",
       "2        No\n",
       "3       Yes\n",
       "4        No\n",
       "       ... \n",
       "1254    Yes\n",
       "1255    Yes\n",
       "1256    Yes\n",
       "1257     No\n",
       "1258    Yes\n",
       "Name: Received_treatment, Length: 1259, dtype: object"
      ]
     },
     "execution_count": 19,
     "metadata": {},
     "output_type": "execute_result"
    }
   ],
   "source": [
    "df['Received_treatment']"
   ]
  },
  {
   "cell_type": "code",
   "execution_count": 20,
   "id": "62411b90-5214-4ad5-ae4a-b424e613c26c",
   "metadata": {
    "tags": []
   },
   "outputs": [],
   "source": [
    "treatment_by_gender = df.groupby('Gender_clean')['Received_treatment'].value_counts().unstack().fillna(0)"
   ]
  },
  {
   "cell_type": "code",
   "execution_count": 21,
   "id": "2e075bc0-5fff-4b85-b2f7-5f8a6d7999fc",
   "metadata": {
    "tags": []
   },
   "outputs": [
    {
     "data": {
      "text/html": [
       "<div>\n",
       "<style scoped>\n",
       "    .dataframe tbody tr th:only-of-type {\n",
       "        vertical-align: middle;\n",
       "    }\n",
       "\n",
       "    .dataframe tbody tr th {\n",
       "        vertical-align: top;\n",
       "    }\n",
       "\n",
       "    .dataframe thead th {\n",
       "        text-align: right;\n",
       "    }\n",
       "</style>\n",
       "<table border=\"1\" class=\"dataframe\">\n",
       "  <thead>\n",
       "    <tr style=\"text-align: right;\">\n",
       "      <th>Received_treatment</th>\n",
       "      <th>No</th>\n",
       "      <th>Yes</th>\n",
       "    </tr>\n",
       "    <tr>\n",
       "      <th>Gender_clean</th>\n",
       "      <th></th>\n",
       "      <th></th>\n",
       "    </tr>\n",
       "  </thead>\n",
       "  <tbody>\n",
       "    <tr>\n",
       "      <th>Female</th>\n",
       "      <td>77.0</td>\n",
       "      <td>172.0</td>\n",
       "    </tr>\n",
       "    <tr>\n",
       "      <th>Male</th>\n",
       "      <td>542.0</td>\n",
       "      <td>452.0</td>\n",
       "    </tr>\n",
       "    <tr>\n",
       "      <th>Missing</th>\n",
       "      <td>0.0</td>\n",
       "      <td>5.0</td>\n",
       "    </tr>\n",
       "    <tr>\n",
       "      <th>Queer</th>\n",
       "      <td>2.0</td>\n",
       "      <td>5.0</td>\n",
       "    </tr>\n",
       "    <tr>\n",
       "      <th>Transgender</th>\n",
       "      <td>1.0</td>\n",
       "      <td>3.0</td>\n",
       "    </tr>\n",
       "  </tbody>\n",
       "</table>\n",
       "</div>"
      ],
      "text/plain": [
       "Received_treatment     No    Yes\n",
       "Gender_clean                    \n",
       "Female               77.0  172.0\n",
       "Male                542.0  452.0\n",
       "Missing               0.0    5.0\n",
       "Queer                 2.0    5.0\n",
       "Transgender           1.0    3.0"
      ]
     },
     "execution_count": 21,
     "metadata": {},
     "output_type": "execute_result"
    }
   ],
   "source": [
    "treatment_by_gender"
   ]
  },
  {
   "cell_type": "code",
   "execution_count": 22,
   "id": "fe8be21f-8574-42fd-bfaa-fa9c26eb06f3",
   "metadata": {
    "tags": []
   },
   "outputs": [],
   "source": [
    "idf = df.interactive()"
   ]
  },
  {
   "cell_type": "code",
   "execution_count": 38,
   "id": "9728428d-6b71-4440-9390-56683db2bd53",
   "metadata": {
    "tags": []
   },
   "outputs": [],
   "source": [
    "yaxis_health = pn.widgets.RadioButtonGroup(\n",
    "    name='Y axis', \n",
    "    options=['mental_health_consequence', 'mental_health_interview','Received_treatment'],\n",
    "    button_type='success'\n",
    ")"
   ]
  },
  {
   "cell_type": "code",
   "execution_count": 39,
   "id": "4c739515-b821-4582-ba38-2a5f435d493d",
   "metadata": {
    "tags": []
   },
   "outputs": [],
   "source": [
    "health_pipeline =idf.groupby(['Gender_clean'])[yaxis_health].value_counts().unstack().fillna(0)"
   ]
  },
  {
   "cell_type": "code",
   "execution_count": 54,
   "id": "282c63ea-a7fc-46b1-89e7-f11455810e26",
   "metadata": {
    "tags": []
   },
   "outputs": [],
   "source": [
    "health_plot = health_pipeline.hvplot(\n",
    "    x='Gender_clean',\n",
    "    stacked=True,\n",
    "    title='Count of Receive Treatment per Gender',\n",
    "    xlabel='Gender',\n",
    "    ylabel='Count'\n",
    ")"
   ]
  },
  {
   "cell_type": "code",
   "execution_count": 57,
   "id": "02c20033-0d02-41de-89bc-46b22e90ea7b",
   "metadata": {
    "tags": []
   },
   "outputs": [
    {
     "data": {},
     "metadata": {},
     "output_type": "display_data"
    },
    {
     "data": {},
     "metadata": {},
     "output_type": "display_data"
    },
    {
     "data": {
      "application/vnd.holoviews_exec.v0+json": "",
      "text/html": [
       "<div id='3084'>\n",
       "  <div class=\"bk-root\" id=\"85d600d9-8cb0-4973-b5c1-7b175bc0bb97\" data-root-id=\"3084\"></div>\n",
       "</div>\n",
       "<script type=\"application/javascript\">(function(root) {\n",
       "  function embed_document(root) {\n",
       "    var docs_json = {\"8b7bfbb3-3692-4a90-a37a-5a2ea37a186e\":{\"defs\":[{\"extends\":null,\"module\":null,\"name\":\"ReactiveHTML1\",\"overrides\":[],\"properties\":[]},{\"extends\":null,\"module\":null,\"name\":\"FlexBox1\",\"overrides\":[],\"properties\":[{\"default\":\"flex-start\",\"kind\":null,\"name\":\"align_content\"},{\"default\":\"flex-start\",\"kind\":null,\"name\":\"align_items\"},{\"default\":\"row\",\"kind\":null,\"name\":\"flex_direction\"},{\"default\":\"wrap\",\"kind\":null,\"name\":\"flex_wrap\"},{\"default\":\"flex-start\",\"kind\":null,\"name\":\"justify_content\"}]},{\"extends\":null,\"module\":null,\"name\":\"GridStack1\",\"overrides\":[],\"properties\":[{\"default\":\"warn\",\"kind\":null,\"name\":\"mode\"},{\"default\":null,\"kind\":null,\"name\":\"ncols\"},{\"default\":null,\"kind\":null,\"name\":\"nrows\"},{\"default\":true,\"kind\":null,\"name\":\"allow_resize\"},{\"default\":true,\"kind\":null,\"name\":\"allow_drag\"},{\"default\":[],\"kind\":null,\"name\":\"state\"}]},{\"extends\":null,\"module\":null,\"name\":\"click1\",\"overrides\":[],\"properties\":[{\"default\":\"\",\"kind\":null,\"name\":\"terminal_output\"},{\"default\":\"\",\"kind\":null,\"name\":\"debug_name\"},{\"default\":0,\"kind\":null,\"name\":\"clears\"}]},{\"extends\":null,\"module\":null,\"name\":\"NotificationAreaBase1\",\"overrides\":[],\"properties\":[{\"default\":\"bottom-right\",\"kind\":null,\"name\":\"position\"},{\"default\":0,\"kind\":null,\"name\":\"_clear\"}]},{\"extends\":null,\"module\":null,\"name\":\"NotificationArea1\",\"overrides\":[],\"properties\":[{\"default\":[],\"kind\":null,\"name\":\"notifications\"},{\"default\":\"bottom-right\",\"kind\":null,\"name\":\"position\"},{\"default\":0,\"kind\":null,\"name\":\"_clear\"},{\"default\":[{\"background\":\"#ffc107\",\"icon\":{\"className\":\"fas fa-exclamation-triangle\",\"color\":\"white\",\"tagName\":\"i\"},\"type\":\"warning\"},{\"background\":\"#007bff\",\"icon\":{\"className\":\"fas fa-info-circle\",\"color\":\"white\",\"tagName\":\"i\"},\"type\":\"info\"}],\"kind\":null,\"name\":\"types\"}]},{\"extends\":null,\"module\":null,\"name\":\"Notification\",\"overrides\":[],\"properties\":[{\"default\":null,\"kind\":null,\"name\":\"background\"},{\"default\":3000,\"kind\":null,\"name\":\"duration\"},{\"default\":null,\"kind\":null,\"name\":\"icon\"},{\"default\":\"\",\"kind\":null,\"name\":\"message\"},{\"default\":null,\"kind\":null,\"name\":\"notification_type\"},{\"default\":false,\"kind\":null,\"name\":\"_destroyed\"}]},{\"extends\":null,\"module\":null,\"name\":\"TemplateActions1\",\"overrides\":[],\"properties\":[{\"default\":0,\"kind\":null,\"name\":\"open_modal\"},{\"default\":0,\"kind\":null,\"name\":\"close_modal\"}]},{\"extends\":null,\"module\":null,\"name\":\"MaterialTemplateActions1\",\"overrides\":[],\"properties\":[{\"default\":0,\"kind\":null,\"name\":\"open_modal\"},{\"default\":0,\"kind\":null,\"name\":\"close_modal\"}]}],\"roots\":{\"references\":[{\"attributes\":{\"line_alpha\":0.1,\"line_color\":\"#fc4f30\",\"line_width\":2,\"x\":{\"field\":\"Gender_clean\"},\"y\":{\"field\":\"value\"}},\"id\":\"3155\",\"type\":\"Line\"},{\"attributes\":{\"click_policy\":\"mute\",\"coordinates\":null,\"group\":null,\"items\":[{\"id\":\"3149\"},{\"id\":\"3171\"},{\"id\":\"3195\"}],\"location\":[0,0],\"title\":\"mental_health_consequence\"},\"id\":\"3148\",\"type\":\"Legend\"},{\"attributes\":{},\"id\":\"3115\",\"type\":\"ResetTool\"},{\"attributes\":{},\"id\":\"3129\",\"type\":\"AllLabels\"},{\"attributes\":{\"axis_label\":\"Gender\",\"coordinates\":null,\"formatter\":{\"id\":\"3125\"},\"group\":null,\"major_label_policy\":{\"id\":\"3126\"},\"ticker\":{\"id\":\"3105\"}},\"id\":\"3104\",\"type\":\"CategoricalAxis\"},{\"attributes\":{\"data\":{\"Gender_clean\":[\"Female\",\"Male\",\"Missing\",\"Queer\",\"Transgender\"],\"mental_health_consequence\":[\"No\",\"No\",\"No\",\"No\",\"No\"],\"value\":{\"__ndarray__\":\"AAAAAACAUkAAAAAAAOB5QAAAAAAAAPA/AAAAAAAA8D8AAAAAAAAAAA==\",\"dtype\":\"float64\",\"order\":\"little\",\"shape\":[5]}},\"selected\":{\"id\":\"3152\"},\"selection_policy\":{\"id\":\"3168\"}},\"id\":\"3151\",\"type\":\"ColumnDataSource\"},{\"attributes\":{\"line_alpha\":0.1,\"line_color\":\"#e5ae38\",\"line_width\":2,\"x\":{\"field\":\"Gender_clean\"},\"y\":{\"field\":\"value\"}},\"id\":\"3177\",\"type\":\"Line\"},{\"attributes\":{\"label\":{\"value\":\"Yes\"},\"renderers\":[{\"id\":\"3179\"}]},\"id\":\"3195\",\"type\":\"LegendItem\"},{\"attributes\":{\"children\":[{\"id\":\"3086\"},{\"id\":\"3095\"}],\"margin\":[0,0,0,0],\"name\":\"Column07587\"},\"id\":\"3085\",\"type\":\"Column\"},{\"attributes\":{\"margin\":[5,5,5,5],\"name\":\"HSpacer07580\",\"sizing_mode\":\"stretch_width\"},\"id\":\"3089\",\"type\":\"Spacer\"},{\"attributes\":{\"coordinates\":null,\"group\":null,\"text\":\"Count of Receive Treatment per Gender\",\"text_color\":\"black\",\"text_font_size\":\"12pt\"},\"id\":\"3096\",\"type\":\"Title\"},{\"attributes\":{\"data\":{\"Gender_clean\":[\"Female\",\"Male\",\"Missing\",\"Queer\",\"Transgender\"],\"mental_health_consequence\":[\"Yes\",\"Yes\",\"Yes\",\"Yes\",\"Yes\"],\"value\":{\"__ndarray__\":\"AAAAAADAUEAAAAAAAABrQAAAAAAAABBAAAAAAAAACEAAAAAAAAAAQA==\",\"dtype\":\"float64\",\"order\":\"little\",\"shape\":[5]}},\"selected\":{\"id\":\"3174\"},\"selection_policy\":{\"id\":\"3192\"}},\"id\":\"3173\",\"type\":\"ColumnDataSource\"},{\"attributes\":{\"line_color\":\"#fc4f30\",\"line_width\":2,\"x\":{\"field\":\"Gender_clean\"},\"y\":{\"field\":\"value\"}},\"id\":\"3172\",\"type\":\"Line\"},{\"attributes\":{\"line_color\":\"#e5ae38\",\"line_width\":2,\"x\":{\"field\":\"Gender_clean\"},\"y\":{\"field\":\"value\"}},\"id\":\"3176\",\"type\":\"Line\"},{\"attributes\":{},\"id\":\"3111\",\"type\":\"SaveTool\"},{\"attributes\":{},\"id\":\"3108\",\"type\":\"BasicTicker\"},{\"attributes\":{\"children\":[{\"id\":\"3085\"}],\"margin\":[0,0,0,0],\"name\":\"Row07588\"},\"id\":\"3084\",\"type\":\"Row\"},{\"attributes\":{\"line_color\":\"#fc4f30\",\"line_width\":2,\"x\":{\"field\":\"Gender_clean\"},\"y\":{\"field\":\"value\"}},\"id\":\"3154\",\"type\":\"Line\"},{\"attributes\":{},\"id\":\"3145\",\"type\":\"UnionRenderers\"},{\"attributes\":{},\"id\":\"3131\",\"type\":\"Selection\"},{\"attributes\":{},\"id\":\"3192\",\"type\":\"UnionRenderers\"},{\"attributes\":{\"source\":{\"id\":\"3151\"}},\"id\":\"3158\",\"type\":\"CDSView\"},{\"attributes\":{\"line_alpha\":0.2,\"line_color\":\"#e5ae38\",\"line_width\":2,\"x\":{\"field\":\"Gender_clean\"},\"y\":{\"field\":\"value\"}},\"id\":\"3178\",\"type\":\"Line\"},{\"attributes\":{},\"id\":\"3125\",\"type\":\"CategoricalTickFormatter\"},{\"attributes\":{},\"id\":\"3174\",\"type\":\"Selection\"},{\"attributes\":{\"axis_label\":\"Count\",\"coordinates\":null,\"formatter\":{\"id\":\"3128\"},\"group\":null,\"major_label_policy\":{\"id\":\"3129\"},\"ticker\":{\"id\":\"3108\"}},\"id\":\"3107\",\"type\":\"LinearAxis\"},{\"attributes\":{\"active\":0,\"button_type\":\"success\",\"labels\":[\"mental_health_consequence\",\"mental_health_interview\",\"Received_treatment\"],\"margin\":[5,10,5,10]},\"id\":\"3088\",\"type\":\"RadioButtonGroup\"},{\"attributes\":{\"line_alpha\":0.2,\"line_color\":\"#fc4f30\",\"line_width\":2,\"x\":{\"field\":\"Gender_clean\"},\"y\":{\"field\":\"value\"}},\"id\":\"3156\",\"type\":\"Line\"},{\"attributes\":{\"reload\":false},\"id\":\"3300\",\"type\":\"panel.models.location.Location\"},{\"attributes\":{},\"id\":\"3152\",\"type\":\"Selection\"},{\"attributes\":{\"line_alpha\":0.2,\"line_color\":\"#30a2da\",\"line_width\":2,\"x\":{\"field\":\"Gender_clean\"},\"y\":{\"field\":\"value\"}},\"id\":\"3135\",\"type\":\"Line\"},{\"attributes\":{\"bottom_units\":\"screen\",\"coordinates\":null,\"fill_alpha\":0.5,\"fill_color\":\"lightgrey\",\"group\":null,\"left_units\":\"screen\",\"level\":\"overlay\",\"line_alpha\":1.0,\"line_color\":\"black\",\"line_dash\":[4,4],\"line_width\":2,\"right_units\":\"screen\",\"syncable\":false,\"top_units\":\"screen\"},\"id\":\"3116\",\"type\":\"BoxAnnotation\"},{\"attributes\":{},\"id\":\"3113\",\"type\":\"WheelZoomTool\"},{\"attributes\":{},\"id\":\"3126\",\"type\":\"AllLabels\"},{\"attributes\":{},\"id\":\"3102\",\"type\":\"LinearScale\"},{\"attributes\":{\"coordinates\":null,\"data_source\":{\"id\":\"3173\"},\"glyph\":{\"id\":\"3176\"},\"group\":null,\"hover_glyph\":null,\"muted_glyph\":{\"id\":\"3178\"},\"nonselection_glyph\":{\"id\":\"3177\"},\"selection_glyph\":{\"id\":\"3196\"},\"view\":{\"id\":\"3180\"}},\"id\":\"3179\",\"type\":\"GlyphRenderer\"},{\"attributes\":{\"line_color\":\"#e5ae38\",\"line_width\":2,\"x\":{\"field\":\"Gender_clean\"},\"y\":{\"field\":\"value\"}},\"id\":\"3196\",\"type\":\"Line\"},{\"attributes\":{\"coordinates\":null,\"data_source\":{\"id\":\"3151\"},\"glyph\":{\"id\":\"3154\"},\"group\":null,\"hover_glyph\":null,\"muted_glyph\":{\"id\":\"3156\"},\"nonselection_glyph\":{\"id\":\"3155\"},\"selection_glyph\":{\"id\":\"3172\"},\"view\":{\"id\":\"3158\"}},\"id\":\"3157\",\"type\":\"GlyphRenderer\"},{\"attributes\":{\"end\":455.4,\"reset_end\":455.4,\"reset_start\":-41.400000000000006,\"start\":-41.400000000000006,\"tags\":[[[\"value\",\"value\",null]]]},\"id\":\"3091\",\"type\":\"Range1d\"},{\"attributes\":{\"source\":{\"id\":\"3130\"}},\"id\":\"3137\",\"type\":\"CDSView\"},{\"attributes\":{\"line_color\":\"#30a2da\",\"line_width\":2,\"x\":{\"field\":\"Gender_clean\"},\"y\":{\"field\":\"value\"}},\"id\":\"3133\",\"type\":\"Line\"},{\"attributes\":{\"line_color\":\"#30a2da\",\"line_width\":2,\"x\":{\"field\":\"Gender_clean\"},\"y\":{\"field\":\"value\"}},\"id\":\"3150\",\"type\":\"Line\"},{\"attributes\":{\"source\":{\"id\":\"3173\"}},\"id\":\"3180\",\"type\":\"CDSView\"},{\"attributes\":{\"data\":{\"Gender_clean\":[\"Female\",\"Male\",\"Missing\",\"Queer\",\"Transgender\"],\"mental_health_consequence\":[\"Maybe\",\"Maybe\",\"Maybe\",\"Maybe\",\"Maybe\"],\"value\":{\"__ndarray__\":\"AAAAAAAAW0AAAAAAAMB2QAAAAAAAAAAAAAAAAAAACEAAAAAAAAAAQA==\",\"dtype\":\"float64\",\"order\":\"little\",\"shape\":[5]}},\"selected\":{\"id\":\"3131\"},\"selection_policy\":{\"id\":\"3145\"}},\"id\":\"3130\",\"type\":\"ColumnDataSource\"},{\"attributes\":{\"callback\":null,\"renderers\":[{\"id\":\"3136\"},{\"id\":\"3157\"},{\"id\":\"3179\"}],\"tags\":[\"hv_created\"],\"tooltips\":[[\"mental_health_consequence\",\"@{mental_health_consequence}\"],[\"Gender_clean\",\"@{Gender_clean}\"],[\"value\",\"@{value}\"]]},\"id\":\"3092\",\"type\":\"HoverTool\"},{\"attributes\":{\"client_comm_id\":\"20d5f9d14e944280b958a9e9d4f46e97\",\"comm_id\":\"21156d4041334df0a6c5362d1c5375a9\",\"plot_id\":\"3084\"},\"id\":\"3257\",\"type\":\"panel.models.comm_manager.CommManager\"},{\"attributes\":{\"overlay\":{\"id\":\"3116\"}},\"id\":\"3114\",\"type\":\"BoxZoomTool\"},{\"attributes\":{},\"id\":\"3168\",\"type\":\"UnionRenderers\"},{\"attributes\":{\"active_drag\":{\"id\":\"3112\"},\"active_scroll\":{\"id\":\"3113\"},\"tools\":[{\"id\":\"3092\"},{\"id\":\"3111\"},{\"id\":\"3112\"},{\"id\":\"3113\"},{\"id\":\"3114\"},{\"id\":\"3115\"}]},\"id\":\"3117\",\"type\":\"Toolbar\"},{\"attributes\":{},\"id\":\"3100\",\"type\":\"CategoricalScale\"},{\"attributes\":{\"label\":{\"value\":\"Maybe\"},\"renderers\":[{\"id\":\"3136\"}]},\"id\":\"3149\",\"type\":\"LegendItem\"},{\"attributes\":{\"line_alpha\":0.1,\"line_color\":\"#30a2da\",\"line_width\":2,\"x\":{\"field\":\"Gender_clean\"},\"y\":{\"field\":\"value\"}},\"id\":\"3134\",\"type\":\"Line\"},{\"attributes\":{},\"id\":\"3112\",\"type\":\"PanTool\"},{\"attributes\":{},\"id\":\"3105\",\"type\":\"CategoricalTicker\"},{\"attributes\":{\"label\":{\"value\":\"No\"},\"renderers\":[{\"id\":\"3157\"}]},\"id\":\"3171\",\"type\":\"LegendItem\"},{\"attributes\":{\"below\":[{\"id\":\"3104\"}],\"center\":[{\"id\":\"3106\"},{\"id\":\"3110\"}],\"height\":300,\"left\":[{\"id\":\"3107\"}],\"margin\":[5,5,5,5],\"min_border_bottom\":10,\"min_border_left\":10,\"min_border_right\":10,\"min_border_top\":10,\"renderers\":[{\"id\":\"3136\"},{\"id\":\"3157\"},{\"id\":\"3179\"}],\"right\":[{\"id\":\"3148\"}],\"sizing_mode\":\"fixed\",\"title\":{\"id\":\"3096\"},\"toolbar\":{\"id\":\"3117\"},\"width\":700,\"x_range\":{\"id\":\"3090\"},\"x_scale\":{\"id\":\"3100\"},\"y_range\":{\"id\":\"3091\"},\"y_scale\":{\"id\":\"3102\"}},\"id\":\"3095\",\"subtype\":\"Figure\",\"type\":\"Plot\"},{\"attributes\":{\"coordinates\":null,\"data_source\":{\"id\":\"3130\"},\"glyph\":{\"id\":\"3133\"},\"group\":null,\"hover_glyph\":null,\"muted_glyph\":{\"id\":\"3135\"},\"nonselection_glyph\":{\"id\":\"3134\"},\"selection_glyph\":{\"id\":\"3150\"},\"view\":{\"id\":\"3137\"}},\"id\":\"3136\",\"type\":\"GlyphRenderer\"},{\"attributes\":{\"axis\":{\"id\":\"3104\"},\"coordinates\":null,\"grid_line_color\":null,\"group\":null,\"ticker\":null},\"id\":\"3106\",\"type\":\"Grid\"},{\"attributes\":{\"children\":[{\"id\":\"3087\"},{\"id\":\"3089\"}],\"margin\":[0,0,0,0],\"name\":\"Row07581\"},\"id\":\"3086\",\"type\":\"Row\"},{\"attributes\":{\"axis\":{\"id\":\"3107\"},\"coordinates\":null,\"dimension\":1,\"grid_line_color\":null,\"group\":null,\"ticker\":null},\"id\":\"3110\",\"type\":\"Grid\"},{\"attributes\":{},\"id\":\"3128\",\"type\":\"BasicTickFormatter\"},{\"attributes\":{\"children\":[{\"id\":\"3088\"}],\"margin\":[0,0,0,0],\"name\":\"Column07576\"},\"id\":\"3087\",\"type\":\"Column\"},{\"attributes\":{\"factors\":[\"Female\",\"Male\",\"Missing\",\"Queer\",\"Transgender\"],\"tags\":[[[\"Gender_clean\",\"Gender_clean\",null]]]},\"id\":\"3090\",\"type\":\"FactorRange\"}],\"root_ids\":[\"3084\",\"3257\",\"3300\"]},\"title\":\"Bokeh Application\",\"version\":\"2.4.3\"}};\n",
       "    var render_items = [{\"docid\":\"8b7bfbb3-3692-4a90-a37a-5a2ea37a186e\",\"root_ids\":[\"3084\"],\"roots\":{\"3084\":\"85d600d9-8cb0-4973-b5c1-7b175bc0bb97\"}}];\n",
       "    root.Bokeh.embed.embed_items_notebook(docs_json, render_items);\n",
       "    for (const render_item of render_items) {\n",
       "      for (const root_id of render_item.root_ids) {\n",
       "\tconst id_el = document.getElementById(root_id)\n",
       "\tif (id_el.children.length && (id_el.children[0].className === 'bk-root')) {\n",
       "\t  const root_el = id_el.children[0]\n",
       "\t  root_el.id = root_el.id + '-rendered'\n",
       "\t}\n",
       "      }\n",
       "    }\n",
       "  }\n",
       "  if (root.Bokeh !== undefined && root.Bokeh.Panel !== undefined && ( root['Tabulator'] !== undefined) && ( root['Tabulator'] !== undefined)) {\n",
       "    embed_document(root);\n",
       "  } else {\n",
       "    var attempts = 0;\n",
       "    var timer = setInterval(function(root) {\n",
       "      if (root.Bokeh !== undefined && root.Bokeh.Panel !== undefined && (root['Tabulator'] !== undefined) && (root['Tabulator'] !== undefined)) {\n",
       "        clearInterval(timer);\n",
       "        embed_document(root);\n",
       "      } else if (document.readyState == \"complete\") {\n",
       "        attempts++;\n",
       "        if (attempts > 200) {\n",
       "          clearInterval(timer);\n",
       "          console.log(\"Bokeh: ERROR: Unable to run BokehJS code because BokehJS library is missing\");\n",
       "        }\n",
       "      }\n",
       "    }, 25, root)\n",
       "  }\n",
       "})(window);</script>"
      ],
      "text/plain": [
       "<hvplot.interactive.Interactive at 0x1ffea5c6b10>"
      ]
     },
     "execution_count": 57,
     "metadata": {
      "application/vnd.holoviews_exec.v0+json": {
       "id": "3084"
      }
     },
     "output_type": "execute_result"
    }
   ],
   "source": [
    "health_plot"
   ]
  },
  {
   "cell_type": "code",
   "execution_count": 58,
   "id": "5dc026ea-ccf9-4611-9299-d697dab49da7",
   "metadata": {
    "tags": []
   },
   "outputs": [],
   "source": [
    "health_table = health_pipeline.pipe(pn.widgets.Tabulator, pagination='remote', page_size = 10, sizing_mode='stretch_width')"
   ]
  },
  {
   "cell_type": "code",
   "execution_count": 59,
   "id": "2625412e-ff5d-4443-9c1f-ccbdf7c29d22",
   "metadata": {
    "tags": []
   },
   "outputs": [
    {
     "data": {},
     "metadata": {},
     "output_type": "display_data"
    },
    {
     "data": {
      "application/vnd.holoviews_exec.v0+json": "",
      "text/html": [
       "<div id='3721'>\n",
       "  <div class=\"bk-root\" id=\"36b5337d-2e8d-4c35-8213-0ce7de81995c\" data-root-id=\"3721\"></div>\n",
       "</div>\n",
       "<script type=\"application/javascript\">(function(root) {\n",
       "  function embed_document(root) {\n",
       "    var docs_json = {\"7d3c71e4-5f51-4c3c-a9fc-a42b45c8bb6d\":{\"defs\":[{\"extends\":null,\"module\":null,\"name\":\"ReactiveHTML1\",\"overrides\":[],\"properties\":[]},{\"extends\":null,\"module\":null,\"name\":\"FlexBox1\",\"overrides\":[],\"properties\":[{\"default\":\"flex-start\",\"kind\":null,\"name\":\"align_content\"},{\"default\":\"flex-start\",\"kind\":null,\"name\":\"align_items\"},{\"default\":\"row\",\"kind\":null,\"name\":\"flex_direction\"},{\"default\":\"wrap\",\"kind\":null,\"name\":\"flex_wrap\"},{\"default\":\"flex-start\",\"kind\":null,\"name\":\"justify_content\"}]},{\"extends\":null,\"module\":null,\"name\":\"GridStack1\",\"overrides\":[],\"properties\":[{\"default\":\"warn\",\"kind\":null,\"name\":\"mode\"},{\"default\":null,\"kind\":null,\"name\":\"ncols\"},{\"default\":null,\"kind\":null,\"name\":\"nrows\"},{\"default\":true,\"kind\":null,\"name\":\"allow_resize\"},{\"default\":true,\"kind\":null,\"name\":\"allow_drag\"},{\"default\":[],\"kind\":null,\"name\":\"state\"}]},{\"extends\":null,\"module\":null,\"name\":\"click1\",\"overrides\":[],\"properties\":[{\"default\":\"\",\"kind\":null,\"name\":\"terminal_output\"},{\"default\":\"\",\"kind\":null,\"name\":\"debug_name\"},{\"default\":0,\"kind\":null,\"name\":\"clears\"}]},{\"extends\":null,\"module\":null,\"name\":\"NotificationAreaBase1\",\"overrides\":[],\"properties\":[{\"default\":\"bottom-right\",\"kind\":null,\"name\":\"position\"},{\"default\":0,\"kind\":null,\"name\":\"_clear\"}]},{\"extends\":null,\"module\":null,\"name\":\"NotificationArea1\",\"overrides\":[],\"properties\":[{\"default\":[],\"kind\":null,\"name\":\"notifications\"},{\"default\":\"bottom-right\",\"kind\":null,\"name\":\"position\"},{\"default\":0,\"kind\":null,\"name\":\"_clear\"},{\"default\":[{\"background\":\"#ffc107\",\"icon\":{\"className\":\"fas fa-exclamation-triangle\",\"color\":\"white\",\"tagName\":\"i\"},\"type\":\"warning\"},{\"background\":\"#007bff\",\"icon\":{\"className\":\"fas fa-info-circle\",\"color\":\"white\",\"tagName\":\"i\"},\"type\":\"info\"}],\"kind\":null,\"name\":\"types\"}]},{\"extends\":null,\"module\":null,\"name\":\"Notification\",\"overrides\":[],\"properties\":[{\"default\":null,\"kind\":null,\"name\":\"background\"},{\"default\":3000,\"kind\":null,\"name\":\"duration\"},{\"default\":null,\"kind\":null,\"name\":\"icon\"},{\"default\":\"\",\"kind\":null,\"name\":\"message\"},{\"default\":null,\"kind\":null,\"name\":\"notification_type\"},{\"default\":false,\"kind\":null,\"name\":\"_destroyed\"}]},{\"extends\":null,\"module\":null,\"name\":\"TemplateActions1\",\"overrides\":[],\"properties\":[{\"default\":0,\"kind\":null,\"name\":\"open_modal\"},{\"default\":0,\"kind\":null,\"name\":\"close_modal\"}]},{\"extends\":null,\"module\":null,\"name\":\"MaterialTemplateActions1\",\"overrides\":[],\"properties\":[{\"default\":0,\"kind\":null,\"name\":\"open_modal\"},{\"default\":0,\"kind\":null,\"name\":\"close_modal\"}]}],\"roots\":{\"references\":[{\"attributes\":{},\"id\":\"3737\",\"type\":\"NumberEditor\"},{\"attributes\":{\"active\":1,\"button_type\":\"success\",\"labels\":[\"mental_health_consequence\",\"mental_health_interview\",\"Received_treatment\"],\"margin\":[5,10,5,10]},\"id\":\"3725\",\"type\":\"RadioButtonGroup\"},{\"attributes\":{\"format\":\"0,0.0[00000]\",\"text_align\":\"right\"},\"id\":\"3736\",\"type\":\"NumberFormatter\"},{\"attributes\":{\"children\":[{\"id\":\"3724\"},{\"id\":\"3726\"}],\"margin\":[0,0,0,0],\"name\":\"Row09237\"},\"id\":\"3723\",\"type\":\"Row\"},{\"attributes\":{\"children\":[{\"id\":\"3725\"}],\"margin\":[0,0,0,0],\"name\":\"Column09230\"},\"id\":\"3724\",\"type\":\"Column\"},{\"attributes\":{\"columns\":[{\"id\":\"3733\"},{\"id\":\"3738\"},{\"id\":\"3743\"},{\"id\":\"3748\"}],\"configuration\":{\"columns\":[{\"field\":\"Gender_clean\"},{\"field\":\"Maybe\",\"sorter\":\"number\"},{\"field\":\"No\",\"sorter\":\"number\"},{\"field\":\"Yes\",\"sorter\":\"number\"}],\"dataTree\":false,\"selectable\":true},\"indexes\":[\"Gender_clean\"],\"layout\":\"fit_data_table\",\"margin\":[5,10,5,10],\"max_page\":1,\"name\":\"\",\"page\":1,\"page_size\":10,\"pagination\":\"remote\",\"select_mode\":true,\"selectable_rows\":null,\"sizing_mode\":\"stretch_width\",\"source\":{\"id\":\"3728\"},\"styles\":{\"data\":{},\"id\":\"d4b47da8d7774d1d8fe7bb89a7c70ead\"},\"subscribed_events\":[\"cell-click\",\"table-edit\"],\"theme_url\":\"https://cdn.jsdelivr.net/npm/@holoviz/panel@0.14.4/dist/bundled/datatabulator/tabulator-tables@5.3.2/dist/css/\"},\"id\":\"3751\",\"type\":\"panel.models.tabulator.DataTabulator\"},{\"attributes\":{\"children\":[{\"id\":\"3751\"}],\"margin\":[0,0,0,0],\"name\":\"Row09235\",\"sizing_mode\":\"stretch_width\"},\"id\":\"3727\",\"type\":\"Row\"},{\"attributes\":{},\"id\":\"3753\",\"type\":\"UnionRenderers\"},{\"attributes\":{},\"id\":\"3730\",\"type\":\"StringFormatter\"},{\"attributes\":{},\"id\":\"3747\",\"type\":\"NumberEditor\"},{\"attributes\":{},\"id\":\"3742\",\"type\":\"NumberEditor\"},{\"attributes\":{\"client_comm_id\":\"0e9b35c034ee4846b17795434c176e71\",\"comm_id\":\"2701c834d59a44e6a887474cc9a2de2f\",\"plot_id\":\"3721\"},\"id\":\"3759\",\"type\":\"panel.models.comm_manager.CommManager\"},{\"attributes\":{\"editor\":{\"id\":\"3742\"},\"field\":\"No\",\"formatter\":{\"id\":\"3741\"},\"title\":\"No\",\"width\":0},\"id\":\"3743\",\"type\":\"TableColumn\"},{\"attributes\":{\"children\":[{\"id\":\"3722\"}],\"margin\":[0,0,0,0],\"name\":\"Row09239\"},\"id\":\"3721\",\"type\":\"Row\"},{\"attributes\":{\"format\":\"0,0.0[00000]\",\"text_align\":\"right\"},\"id\":\"3741\",\"type\":\"NumberFormatter\"},{\"attributes\":{\"margin\":[5,5,5,5],\"name\":\"HSpacer09236\",\"sizing_mode\":\"stretch_width\"},\"id\":\"3726\",\"type\":\"Spacer\"},{\"attributes\":{\"format\":\"0,0.0[00000]\",\"text_align\":\"right\"},\"id\":\"3746\",\"type\":\"NumberFormatter\"},{\"attributes\":{\"editor\":{\"id\":\"3737\"},\"field\":\"Maybe\",\"formatter\":{\"id\":\"3736\"},\"title\":\"Maybe\",\"width\":0},\"id\":\"3738\",\"type\":\"TableColumn\"},{\"attributes\":{\"children\":[{\"id\":\"3723\"},{\"id\":\"3727\"}],\"margin\":[0,0,0,0],\"name\":\"Column09238\"},\"id\":\"3722\",\"type\":\"Column\"},{\"attributes\":{},\"id\":\"3732\",\"type\":\"CellEditor\"},{\"attributes\":{\"indices\":[]},\"id\":\"3729\",\"type\":\"Selection\"},{\"attributes\":{\"editor\":{\"id\":\"3732\"},\"field\":\"Gender_clean\",\"formatter\":{\"id\":\"3730\"},\"title\":\"Gender_clean\",\"width\":0},\"id\":\"3733\",\"type\":\"TableColumn\"},{\"attributes\":{\"data\":{\"Gender_clean\":[\"Female\",\"Male\",\"Missing\",\"Queer\",\"Transgender\"],\"Maybe\":{\"__ndarray__\":\"AAAAAAAANkAAAAAAAABnQAAAAAAAAAAAAAAAAAAA8D8AAAAAAAAAAA==\",\"dtype\":\"float64\",\"order\":\"little\",\"shape\":[5]},\"No\":{\"__ndarray__\":\"AAAAAAAAbEAAAAAAACiIQAAAAAAAAABAAAAAAAAAFEAAAAAAAAAQQA==\",\"dtype\":\"float64\",\"order\":\"little\",\"shape\":[5]},\"Yes\":{\"__ndarray__\":\"AAAAAAAACEAAAAAAAIBCQAAAAAAAAAhAAAAAAAAA8D8AAAAAAAAAAA==\",\"dtype\":\"float64\",\"order\":\"little\",\"shape\":[5]}},\"selected\":{\"id\":\"3729\"},\"selection_policy\":{\"id\":\"3753\"}},\"id\":\"3728\",\"type\":\"ColumnDataSource\"},{\"attributes\":{\"editor\":{\"id\":\"3747\"},\"field\":\"Yes\",\"formatter\":{\"id\":\"3746\"},\"title\":\"Yes\",\"width\":0},\"id\":\"3748\",\"type\":\"TableColumn\"}],\"root_ids\":[\"3721\",\"3759\"]},\"title\":\"Bokeh Application\",\"version\":\"2.4.3\"}};\n",
       "    var render_items = [{\"docid\":\"7d3c71e4-5f51-4c3c-a9fc-a42b45c8bb6d\",\"root_ids\":[\"3721\"],\"roots\":{\"3721\":\"36b5337d-2e8d-4c35-8213-0ce7de81995c\"}}];\n",
       "    root.Bokeh.embed.embed_items_notebook(docs_json, render_items);\n",
       "    for (const render_item of render_items) {\n",
       "      for (const root_id of render_item.root_ids) {\n",
       "\tconst id_el = document.getElementById(root_id)\n",
       "\tif (id_el.children.length && (id_el.children[0].className === 'bk-root')) {\n",
       "\t  const root_el = id_el.children[0]\n",
       "\t  root_el.id = root_el.id + '-rendered'\n",
       "\t}\n",
       "      }\n",
       "    }\n",
       "  }\n",
       "  if (root.Bokeh !== undefined && root.Bokeh.Panel !== undefined && ( root['Tabulator'] !== undefined) && ( root['Tabulator'] !== undefined)) {\n",
       "    embed_document(root);\n",
       "  } else {\n",
       "    var attempts = 0;\n",
       "    var timer = setInterval(function(root) {\n",
       "      if (root.Bokeh !== undefined && root.Bokeh.Panel !== undefined && (root['Tabulator'] !== undefined) && (root['Tabulator'] !== undefined)) {\n",
       "        clearInterval(timer);\n",
       "        embed_document(root);\n",
       "      } else if (document.readyState == \"complete\") {\n",
       "        attempts++;\n",
       "        if (attempts > 200) {\n",
       "          clearInterval(timer);\n",
       "          console.log(\"Bokeh: ERROR: Unable to run BokehJS code because BokehJS library is missing\");\n",
       "        }\n",
       "      }\n",
       "    }, 25, root)\n",
       "  }\n",
       "})(window);</script>"
      ],
      "text/plain": [
       "<hvplot.interactive.Interactive at 0x1ffea9c1b10>"
      ]
     },
     "execution_count": 59,
     "metadata": {
      "application/vnd.holoviews_exec.v0+json": {
       "id": "3721"
      }
     },
     "output_type": "execute_result"
    }
   ],
   "source": [
    "health_table"
   ]
  },
  {
   "cell_type": "code",
   "execution_count": 76,
   "id": "1ab962cb-cdca-4abb-bc3b-6e1fd65072d0",
   "metadata": {
    "tags": []
   },
   "outputs": [],
   "source": [
    "health_plot_bar =health_pipeline.hvplot.bar(\n",
    "    x='Gender_clean',\n",
    "    stacked=True,\n",
    "    title='Count of Receive Treatment per Gender',\n",
    "    xlabel='Gender',\n",
    "    ylabel='Count'\n",
    ")"
   ]
  },
  {
   "cell_type": "code",
   "execution_count": 77,
   "id": "a0a8fa76-07e4-4600-8f0f-fab505a0f009",
   "metadata": {
    "tags": []
   },
   "outputs": [
    {
     "data": {},
     "metadata": {},
     "output_type": "display_data"
    },
    {
     "data": {},
     "metadata": {},
     "output_type": "display_data"
    },
    {
     "data": {
      "application/vnd.holoviews_exec.v0+json": "",
      "text/html": [
       "<div id='7810'>\n",
       "  <div class=\"bk-root\" id=\"96207bfd-050a-4a4e-81f3-5074623c936c\" data-root-id=\"7810\"></div>\n",
       "</div>\n",
       "<script type=\"application/javascript\">(function(root) {\n",
       "  function embed_document(root) {\n",
       "    var docs_json = {\"df7d193d-5a2e-4441-af57-ec4985096e30\":{\"defs\":[{\"extends\":null,\"module\":null,\"name\":\"ReactiveHTML1\",\"overrides\":[],\"properties\":[]},{\"extends\":null,\"module\":null,\"name\":\"FlexBox1\",\"overrides\":[],\"properties\":[{\"default\":\"flex-start\",\"kind\":null,\"name\":\"align_content\"},{\"default\":\"flex-start\",\"kind\":null,\"name\":\"align_items\"},{\"default\":\"row\",\"kind\":null,\"name\":\"flex_direction\"},{\"default\":\"wrap\",\"kind\":null,\"name\":\"flex_wrap\"},{\"default\":\"flex-start\",\"kind\":null,\"name\":\"justify_content\"}]},{\"extends\":null,\"module\":null,\"name\":\"GridStack1\",\"overrides\":[],\"properties\":[{\"default\":\"warn\",\"kind\":null,\"name\":\"mode\"},{\"default\":null,\"kind\":null,\"name\":\"ncols\"},{\"default\":null,\"kind\":null,\"name\":\"nrows\"},{\"default\":true,\"kind\":null,\"name\":\"allow_resize\"},{\"default\":true,\"kind\":null,\"name\":\"allow_drag\"},{\"default\":[],\"kind\":null,\"name\":\"state\"}]},{\"extends\":null,\"module\":null,\"name\":\"click1\",\"overrides\":[],\"properties\":[{\"default\":\"\",\"kind\":null,\"name\":\"terminal_output\"},{\"default\":\"\",\"kind\":null,\"name\":\"debug_name\"},{\"default\":0,\"kind\":null,\"name\":\"clears\"}]},{\"extends\":null,\"module\":null,\"name\":\"NotificationAreaBase1\",\"overrides\":[],\"properties\":[{\"default\":\"bottom-right\",\"kind\":null,\"name\":\"position\"},{\"default\":0,\"kind\":null,\"name\":\"_clear\"}]},{\"extends\":null,\"module\":null,\"name\":\"NotificationArea1\",\"overrides\":[],\"properties\":[{\"default\":[],\"kind\":null,\"name\":\"notifications\"},{\"default\":\"bottom-right\",\"kind\":null,\"name\":\"position\"},{\"default\":0,\"kind\":null,\"name\":\"_clear\"},{\"default\":[{\"background\":\"#ffc107\",\"icon\":{\"className\":\"fas fa-exclamation-triangle\",\"color\":\"white\",\"tagName\":\"i\"},\"type\":\"warning\"},{\"background\":\"#007bff\",\"icon\":{\"className\":\"fas fa-info-circle\",\"color\":\"white\",\"tagName\":\"i\"},\"type\":\"info\"}],\"kind\":null,\"name\":\"types\"}]},{\"extends\":null,\"module\":null,\"name\":\"Notification\",\"overrides\":[],\"properties\":[{\"default\":null,\"kind\":null,\"name\":\"background\"},{\"default\":3000,\"kind\":null,\"name\":\"duration\"},{\"default\":null,\"kind\":null,\"name\":\"icon\"},{\"default\":\"\",\"kind\":null,\"name\":\"message\"},{\"default\":null,\"kind\":null,\"name\":\"notification_type\"},{\"default\":false,\"kind\":null,\"name\":\"_destroyed\"}]},{\"extends\":null,\"module\":null,\"name\":\"TemplateActions1\",\"overrides\":[],\"properties\":[{\"default\":0,\"kind\":null,\"name\":\"open_modal\"},{\"default\":0,\"kind\":null,\"name\":\"close_modal\"}]},{\"extends\":null,\"module\":null,\"name\":\"MaterialTemplateActions1\",\"overrides\":[],\"properties\":[{\"default\":0,\"kind\":null,\"name\":\"open_modal\"},{\"default\":0,\"kind\":null,\"name\":\"close_modal\"}]}],\"roots\":{\"references\":[{\"attributes\":{\"below\":[{\"id\":\"7828\"}],\"center\":[{\"id\":\"7830\"},{\"id\":\"7834\"},{\"id\":\"7867\"}],\"height\":300,\"left\":[{\"id\":\"7831\"}],\"margin\":[5,5,5,5],\"min_border_bottom\":10,\"min_border_left\":10,\"min_border_right\":10,\"min_border_top\":10,\"renderers\":[{\"id\":\"7855\"}],\"right\":[{\"id\":\"7867\"}],\"sizing_mode\":\"fixed\",\"title\":{\"id\":\"7820\"},\"toolbar\":{\"id\":\"7841\"},\"width\":700,\"x_range\":{\"id\":\"7816\"},\"x_scale\":{\"id\":\"7824\"},\"y_range\":{\"id\":\"7817\"},\"y_scale\":{\"id\":\"7826\"}},\"id\":\"7819\",\"subtype\":\"Figure\",\"type\":\"Plot\"},{\"attributes\":{\"bottom\":{\"field\":\"bottom\"},\"fill_alpha\":{\"value\":1.0},\"fill_color\":{\"field\":\"mental_health_consequence\",\"transform\":{\"id\":\"7848\"}},\"hatch_alpha\":{\"value\":1.0},\"hatch_color\":{\"field\":\"mental_health_consequence\",\"transform\":{\"id\":\"7848\"}},\"hatch_scale\":{\"value\":12.0},\"hatch_weight\":{\"value\":1.0},\"line_alpha\":{\"value\":1.0},\"line_cap\":{\"value\":\"butt\"},\"line_color\":{\"value\":\"black\"},\"line_dash\":{\"value\":[]},\"line_dash_offset\":{\"value\":0},\"line_join\":{\"value\":\"bevel\"},\"line_width\":{\"value\":1},\"top\":{\"field\":\"top\"},\"width\":{\"value\":0.8},\"x\":{\"field\":\"Gender_clean\"}},\"id\":\"7869\",\"type\":\"VBar\"},{\"attributes\":{},\"id\":\"7859\",\"type\":\"BasicTickFormatter\"},{\"attributes\":{\"end\":1093.0,\"reset_end\":1093.0,\"reset_start\":0.0,\"tags\":[[[\"value\",\"value\",null]]]},\"id\":\"7817\",\"type\":\"Range1d\"},{\"attributes\":{},\"id\":\"7863\",\"type\":\"AllLabels\"},{\"attributes\":{\"bottom_units\":\"screen\",\"coordinates\":null,\"fill_alpha\":0.5,\"fill_color\":\"lightgrey\",\"group\":null,\"left_units\":\"screen\",\"level\":\"overlay\",\"line_alpha\":1.0,\"line_color\":\"black\",\"line_dash\":[4,4],\"line_width\":2,\"right_units\":\"screen\",\"syncable\":false,\"top_units\":\"screen\"},\"id\":\"7840\",\"type\":\"BoxAnnotation\"},{\"attributes\":{\"label\":{\"field\":\"mental_health_consequence\"},\"renderers\":[{\"id\":\"7855\"}]},\"id\":\"7868\",\"type\":\"LegendItem\"},{\"attributes\":{\"children\":[{\"id\":\"7811\"}],\"margin\":[0,0,0,0],\"name\":\"Row19381\"},\"id\":\"7810\",\"type\":\"Row\"},{\"attributes\":{},\"id\":\"7829\",\"type\":\"CategoricalTicker\"},{\"attributes\":{\"margin\":[5,5,5,5],\"name\":\"HSpacer19373\",\"sizing_mode\":\"stretch_width\"},\"id\":\"7815\",\"type\":\"Spacer\"},{\"attributes\":{\"coordinates\":null,\"group\":null,\"text\":\"Count of Receive Treatment per Gender\",\"text_color\":\"black\",\"text_font_size\":\"12pt\"},\"id\":\"7820\",\"type\":\"Title\"},{\"attributes\":{},\"id\":\"7837\",\"type\":\"WheelZoomTool\"},{\"attributes\":{},\"id\":\"7839\",\"type\":\"ResetTool\"},{\"attributes\":{\"children\":[{\"id\":\"7813\"},{\"id\":\"7815\"}],\"margin\":[0,0,0,0],\"name\":\"Row19374\"},\"id\":\"7812\",\"type\":\"Row\"},{\"attributes\":{\"children\":[{\"id\":\"7812\"},{\"id\":\"7819\"}],\"margin\":[0,0,0,0],\"name\":\"Column19380\"},\"id\":\"7811\",\"type\":\"Column\"},{\"attributes\":{},\"id\":\"7824\",\"type\":\"CategoricalScale\"},{\"attributes\":{\"axis\":{\"id\":\"7828\"},\"coordinates\":null,\"grid_line_color\":null,\"group\":null,\"ticker\":null},\"id\":\"7830\",\"type\":\"Grid\"},{\"attributes\":{\"coordinates\":null,\"data_source\":{\"id\":\"7849\"},\"glyph\":{\"id\":\"7852\"},\"group\":null,\"hover_glyph\":null,\"muted_glyph\":{\"id\":\"7854\"},\"nonselection_glyph\":{\"id\":\"7853\"},\"selection_glyph\":{\"id\":\"7869\"},\"view\":{\"id\":\"7856\"}},\"id\":\"7855\",\"type\":\"GlyphRenderer\"},{\"attributes\":{\"bottom\":{\"field\":\"bottom\"},\"fill_color\":{\"field\":\"mental_health_consequence\",\"transform\":{\"id\":\"7848\"}},\"hatch_color\":{\"field\":\"mental_health_consequence\",\"transform\":{\"id\":\"7848\"}},\"top\":{\"field\":\"top\"},\"width\":{\"value\":0.8},\"x\":{\"field\":\"Gender_clean\"}},\"id\":\"7852\",\"type\":\"VBar\"},{\"attributes\":{},\"id\":\"7862\",\"type\":\"CategoricalTickFormatter\"},{\"attributes\":{\"axis_label\":\"Gender\",\"coordinates\":null,\"formatter\":{\"id\":\"7862\"},\"group\":null,\"major_label_policy\":{\"id\":\"7863\"},\"ticker\":{\"id\":\"7829\"}},\"id\":\"7828\",\"type\":\"CategoricalAxis\"},{\"attributes\":{\"source\":{\"id\":\"7849\"}},\"id\":\"7856\",\"type\":\"CDSView\"},{\"attributes\":{\"children\":[{\"id\":\"7814\"}],\"margin\":[0,0,0,0],\"name\":\"Column19369\"},\"id\":\"7813\",\"type\":\"Column\"},{\"attributes\":{\"active\":0,\"button_type\":\"success\",\"labels\":[\"mental_health_consequence\",\"mental_health_interview\",\"Received_treatment\"],\"margin\":[5,10,5,10]},\"id\":\"7814\",\"type\":\"RadioButtonGroup\"},{\"attributes\":{\"factors\":[\"Maybe\",\"No\",\"Yes\"],\"palette\":[\"#30a2da\",\"#fc4f30\",\"#e5ae38\"]},\"id\":\"7848\",\"type\":\"CategoricalColorMapper\"},{\"attributes\":{\"overlay\":{\"id\":\"7840\"}},\"id\":\"7838\",\"type\":\"BoxZoomTool\"},{\"attributes\":{\"coordinates\":null,\"group\":null,\"items\":[{\"id\":\"7868\"}],\"location\":[0,0]},\"id\":\"7867\",\"type\":\"Legend\"},{\"attributes\":{\"bottom\":{\"field\":\"bottom\"},\"fill_alpha\":{\"value\":0.2},\"fill_color\":{\"field\":\"mental_health_consequence\",\"transform\":{\"id\":\"7848\"}},\"hatch_alpha\":{\"value\":0.2},\"hatch_color\":{\"field\":\"mental_health_consequence\",\"transform\":{\"id\":\"7848\"}},\"line_alpha\":{\"value\":0.2},\"top\":{\"field\":\"top\"},\"width\":{\"value\":0.8},\"x\":{\"field\":\"Gender_clean\"}},\"id\":\"7854\",\"type\":\"VBar\"},{\"attributes\":{\"data\":{\"Gender_clean\":[\"Female\",\"Male\",\"Missing\",\"Queer\",\"Transgender\",\"Female\",\"Male\",\"Missing\",\"Queer\",\"Transgender\",\"Female\",\"Male\",\"Missing\",\"Queer\",\"Transgender\"],\"bottom\":{\"__ndarray__\":\"AAAAAAAAAAAAAAAAAAAAAAAAAAAAAAAAAAAAAAAAAAAAAAAAAAAAAAAAAAAAAFtAAAAAAADAdkAAAAAAAAAAAAAAAAAAAAhAAAAAAAAAAEAAAAAAAMBmQAAAAAAAUIhAAAAAAAAA8D8AAAAAAAAQQAAAAAAAAABA\",\"dtype\":\"float64\",\"order\":\"little\",\"shape\":[15]},\"mental_health_consequence\":[\"Maybe\",\"Maybe\",\"Maybe\",\"Maybe\",\"Maybe\",\"No\",\"No\",\"No\",\"No\",\"No\",\"Yes\",\"Yes\",\"Yes\",\"Yes\",\"Yes\"],\"top\":{\"__ndarray__\":\"AAAAAAAAW0AAAAAAAMB2QAAAAAAAAAAAAAAAAAAACEAAAAAAAAAAQAAAAAAAwGZAAAAAAABQiEAAAAAAAADwPwAAAAAAABBAAAAAAAAAAEAAAAAAACBvQAAAAAAAEI9AAAAAAAAAFEAAAAAAAAAcQAAAAAAAABBA\",\"dtype\":\"float64\",\"order\":\"little\",\"shape\":[15]},\"value\":{\"__ndarray__\":\"AAAAAAAAW0AAAAAAAMB2QAAAAAAAAAAAAAAAAAAACEAAAAAAAAAAQAAAAAAAgFJAAAAAAADgeUAAAAAAAADwPwAAAAAAAPA/AAAAAAAAAAAAAAAAAMBQQAAAAAAAAGtAAAAAAAAAEEAAAAAAAAAIQAAAAAAAAABA\",\"dtype\":\"float64\",\"order\":\"little\",\"shape\":[15]}},\"selected\":{\"id\":\"7850\"},\"selection_policy\":{\"id\":\"7864\"}},\"id\":\"7849\",\"type\":\"ColumnDataSource\"},{\"attributes\":{},\"id\":\"7835\",\"type\":\"SaveTool\"},{\"attributes\":{},\"id\":\"7860\",\"type\":\"AllLabels\"},{\"attributes\":{\"active_drag\":{\"id\":\"7836\"},\"active_scroll\":{\"id\":\"7837\"},\"tools\":[{\"id\":\"7818\"},{\"id\":\"7835\"},{\"id\":\"7836\"},{\"id\":\"7837\"},{\"id\":\"7838\"},{\"id\":\"7839\"}]},\"id\":\"7841\",\"type\":\"Toolbar\"},{\"attributes\":{\"factors\":[\"Female\",\"Male\",\"Missing\",\"Queer\",\"Transgender\"],\"tags\":[[[\"Gender_clean\",\"Gender_clean\",null]]]},\"id\":\"7816\",\"type\":\"FactorRange\"},{\"attributes\":{},\"id\":\"7864\",\"type\":\"UnionRenderers\"},{\"attributes\":{},\"id\":\"7826\",\"type\":\"LinearScale\"},{\"attributes\":{\"axis_label\":\"Count\",\"coordinates\":null,\"formatter\":{\"id\":\"7859\"},\"group\":null,\"major_label_policy\":{\"id\":\"7860\"},\"ticker\":{\"id\":\"7832\"}},\"id\":\"7831\",\"type\":\"LinearAxis\"},{\"attributes\":{\"bottom\":{\"field\":\"bottom\"},\"fill_alpha\":{\"value\":0.1},\"fill_color\":{\"field\":\"mental_health_consequence\",\"transform\":{\"id\":\"7848\"}},\"hatch_alpha\":{\"value\":0.1},\"hatch_color\":{\"field\":\"mental_health_consequence\",\"transform\":{\"id\":\"7848\"}},\"line_alpha\":{\"value\":0.1},\"top\":{\"field\":\"top\"},\"width\":{\"value\":0.8},\"x\":{\"field\":\"Gender_clean\"}},\"id\":\"7853\",\"type\":\"VBar\"},{\"attributes\":{\"client_comm_id\":\"9c76a68b970b4fe0847fd2ddd195b0a4\",\"comm_id\":\"27bc598991864b2f88e3e249fe64b996\",\"plot_id\":\"7810\"},\"id\":\"7920\",\"type\":\"panel.models.comm_manager.CommManager\"},{\"attributes\":{},\"id\":\"7836\",\"type\":\"PanTool\"},{\"attributes\":{\"callback\":null,\"renderers\":[{\"id\":\"7855\"}],\"tags\":[\"hv_created\"],\"tooltips\":[[\"Gender_clean\",\"@{Gender_clean}\"],[\"mental_health_consequence\",\"@{mental_health_consequence}\"],[\"value\",\"@{value}\"]]},\"id\":\"7818\",\"type\":\"HoverTool\"},{\"attributes\":{},\"id\":\"7832\",\"type\":\"BasicTicker\"},{\"attributes\":{},\"id\":\"7850\",\"type\":\"Selection\"},{\"attributes\":{\"axis\":{\"id\":\"7831\"},\"coordinates\":null,\"dimension\":1,\"grid_line_color\":null,\"group\":null,\"ticker\":null},\"id\":\"7834\",\"type\":\"Grid\"}],\"root_ids\":[\"7810\",\"7920\"]},\"title\":\"Bokeh Application\",\"version\":\"2.4.3\"}};\n",
       "    var render_items = [{\"docid\":\"df7d193d-5a2e-4441-af57-ec4985096e30\",\"root_ids\":[\"7810\"],\"roots\":{\"7810\":\"96207bfd-050a-4a4e-81f3-5074623c936c\"}}];\n",
       "    root.Bokeh.embed.embed_items_notebook(docs_json, render_items);\n",
       "    for (const render_item of render_items) {\n",
       "      for (const root_id of render_item.root_ids) {\n",
       "\tconst id_el = document.getElementById(root_id)\n",
       "\tif (id_el.children.length && (id_el.children[0].className === 'bk-root')) {\n",
       "\t  const root_el = id_el.children[0]\n",
       "\t  root_el.id = root_el.id + '-rendered'\n",
       "\t}\n",
       "      }\n",
       "    }\n",
       "  }\n",
       "  if (root.Bokeh !== undefined && root.Bokeh.Panel !== undefined && ( root['Tabulator'] !== undefined) && ( root['Tabulator'] !== undefined)) {\n",
       "    embed_document(root);\n",
       "  } else {\n",
       "    var attempts = 0;\n",
       "    var timer = setInterval(function(root) {\n",
       "      if (root.Bokeh !== undefined && root.Bokeh.Panel !== undefined && (root['Tabulator'] !== undefined) && (root['Tabulator'] !== undefined)) {\n",
       "        clearInterval(timer);\n",
       "        embed_document(root);\n",
       "      } else if (document.readyState == \"complete\") {\n",
       "        attempts++;\n",
       "        if (attempts > 200) {\n",
       "          clearInterval(timer);\n",
       "          console.log(\"Bokeh: ERROR: Unable to run BokehJS code because BokehJS library is missing\");\n",
       "        }\n",
       "      }\n",
       "    }, 25, root)\n",
       "  }\n",
       "})(window);</script>"
      ],
      "text/plain": [
       "<hvplot.interactive.Interactive at 0x1ffeb033ad0>"
      ]
     },
     "execution_count": 77,
     "metadata": {
      "application/vnd.holoviews_exec.v0+json": {
       "id": "7810"
      }
     },
     "output_type": "execute_result"
    }
   ],
   "source": [
    "health_plot_bar"
   ]
  },
  {
   "cell_type": "code",
   "execution_count": 78,
   "id": "72660b95-90d6-459e-b425-41ee28d36faf",
   "metadata": {
    "tags": []
   },
   "outputs": [],
   "source": [
    "#Layout using Template\n",
    "template = pn.template.FastListTemplate(\n",
    "    title='World Mental-health dashboard', \n",
    "    sidebar=[pn.pane.Markdown(\"# World Mental-Health Analytics\"), \n",
    "             pn.pane.Markdown(\"#### World Mental Health Day is observed on October 10 every year to raise awareness about mental health issues and promote efforts to support mental health. It was first observed in 1992 at the initiative of the World Federation for Mental Health. The day provides an opportunity to address the stigma surrounding mental health and encourage individuals to seek help for mental health issues. It also serves as a reminder to governments, policymakers, and healthcare providers to prioritize mental health and work towards providing better mental health services and support to those in need.\"), \n",
    "             pn.pane.PNG('world_day.png', sizing_mode='scale_both'),\n",
    "             pn.pane.Markdown(\"## Settings\")   \n",
    "             ],\n",
    "    main=[pn.Row(pn.Column(yaxis_health, \n",
    "                           health_plot.panel(width=700), margin=(0,25)), \n",
    "                 health_table.panel(width=500)), \n",
    "          pn.Row(pn.Column(yaxis_health, health_plot_bar.panel(width=600)))],\n",
    "    accent_base_color=\"#88d8b0\",\n",
    "    header_background=\"#88d8b0\",\n",
    ")\n",
    "# template.show()\n",
    "template.servable();"
   ]
  },
  {
   "cell_type": "code",
   "execution_count": null,
   "id": "e07d5226-cbf2-4202-be1b-92285a3bb577",
   "metadata": {},
   "outputs": [],
   "source": []
  }
 ],
 "metadata": {
  "kernelspec": {
   "display_name": "Python 3 (ipykernel)",
   "language": "python",
   "name": "python3"
  },
  "language_info": {
   "codemirror_mode": {
    "name": "ipython",
    "version": 3
   },
   "file_extension": ".py",
   "mimetype": "text/x-python",
   "name": "python",
   "nbconvert_exporter": "python",
   "pygments_lexer": "ipython3",
   "version": "3.11.0"
  }
 },
 "nbformat": 4,
 "nbformat_minor": 5
}
